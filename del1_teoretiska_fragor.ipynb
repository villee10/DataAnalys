{
 "cells": [
  {
   "cell_type": "markdown",
   "id": "89492cf5",
   "metadata": {},
   "source": [
    "# 📚 Del 1: Teoretiska Frågor och Python-Övningar"
   ]
  },
  {
   "cell_type": "markdown",
   "id": "1b67caed",
   "metadata": {},
   "source": [
    "## 1. Vad är skillnaden på en tuple och en lista i Python? Är den ena datatypen bättre än den andra?"
   ]
  },
  {
   "cell_type": "markdown",
   "id": "e7b385f9",
   "metadata": {},
   "source": [
    "en tuple är som en const. man kan inte lägga till fler värden en tuple, den är bra ifall du inte vill att din data ska ändras... en lista är är mer som en let. du kan slänga in fler värden, ta bort och ändra värden.\n",
    "\n",
    "\n",
    "jag skulle använda tuple ifall jag skulle skapa tex ett kvitto.\n",
    "en lista skulle jag använda mer som en inköpningslista."
   ]
  },
  {
   "cell_type": "markdown",
   "id": "de3b0917",
   "metadata": {},
   "source": [
    "## 2. Vad är en funktion för något? Varför kan funktioner vara användbara?"
   ]
  },
  {
   "cell_type": "markdown",
   "id": "cdcbdc9f",
   "metadata": {},
   "source": [
    "en function returnerar något återanvändbart som gör en specifik uppgift. det är som en maskin som tar in en input. gör något med det och ger tillbaka en output. alltså ett resultat. funktioner är bra för att slippa skriva samma kod flera gånger. man anropar functionen där man vill att den ska utföras. \n",
    "\n",
    "\n",
    "\n",
    "name = \"ville\"\n",
    "greeting = \"hejsan\"\n",
    "\n",
    "\n",
    "def welcome(name, greeting):\n",
    "\n",
    "    print(f\"{greeting}, {name}\")\n",
    "\n",
    "\n",
    "welcome(name, greeting)"
   ]
  },
  {
   "cell_type": "markdown",
   "id": "6a7b2969",
   "metadata": {},
   "source": [
    "## 3. Förklara vad följande begrepp, kopplat till klasser, betyder:\n",
    "- a) Instans\n",
    "- b) Attribut\n",
    "- c) Metod"
   ]
  },
  {
   "cell_type": "markdown",
   "id": "95ab02c9",
   "metadata": {},
   "source": [
    "a, om du har en class Hus:\n",
    "    så blir mitt_hus = Hus()\n",
    "    variablen mitt_hus är en instans av klassen Hus\n",
    "\n",
    "b,  en attribut i klassen Hus kan vara tex färg så\n",
    "    mitt_hus.färg = \"grön\"\n",
    "\n",
    "\n",
    "c,  en method är en funktion som är kopplad till en klass/instans. Den gör något med eller åt instansen\n",
    "    och kan anropas med instansen\n",
    "\n",
    "class Hus:\n",
    "    def öppna_dörr(self):\n",
    "        print(\"Dörren är öppen.\")\n",
    "\n",
    "mitt_hus = Hus()\n",
    "mitt_hus.öppna_dörr()"
   ]
  },
  {
   "cell_type": "code",
   "execution_count": 2,
   "id": "c3946493",
   "metadata": {},
   "outputs": [
    {
     "name": "stdout",
     "output_type": "stream",
     "text": [
      "True\n"
     ]
    }
   ],
   "source": [
    "class Hus:\n",
    "    pass\n",
    "\n",
    "\n",
    "mitt_hus = Hus()\n",
    "print(isinstance(mitt_hus, Hus))  # true\n"
   ]
  },
  {
   "cell_type": "markdown",
   "id": "496dda2c",
   "metadata": {},
   "source": [
    "## 4. Vad är Streamlit för något?"
   ]
  },
  {
   "cell_type": "markdown",
   "id": "ded0855d",
   "metadata": {},
   "source": [
    "Streamlit är ett bibliotek i Python som gör det enkelt att skapa webbappar särskilt för dataanalys, visualisering och maskininlärning utan att du behöver kunna något om html, css eller JavaScript."
   ]
  },
  {
   "cell_type": "markdown",
   "id": "d4181283",
   "metadata": {},
   "source": [
    "## 5. Python-Övningar"
   ]
  },
  {
   "cell_type": "markdown",
   "id": "a3304e50",
   "metadata": {},
   "source": [
    "### a) Skapa en klass som heter `BankAccount` med följande:\n",
    "- Attribut: `account_holder`, `balance`\n",
    "- Metoder: `deposit()`, `withdraw()`\n",
    "- Om kontoinnehavaren försöker ta ut mer pengar än saldot, skriv ut 'Too low balance'."
   ]
  },
  {
   "cell_type": "code",
   "execution_count": 8,
   "id": "2dcd794f",
   "metadata": {},
   "outputs": [
    {
     "name": "stdout",
     "output_type": "stream",
     "text": [
      "Withdrawn 2300. ville, your new balance: 0,\n",
      "0\n"
     ]
    }
   ],
   "source": [
    "# Din klassimplementation här\n",
    "\n",
    "class BankAccount:\n",
    "    def withdraw(self, amount):\n",
    "        if self.balance >= amount:\n",
    "            self.balance -= amount\n",
    "            print(f\"Withdrawn {amount}. {self.account_holder}, your new balance: {self.balance},\")\n",
    "        else:\n",
    "                    print(\"Too low balance\")\n",
    "\n",
    "\n",
    "    def deposit(self, amount):\n",
    "            self.balance += amount\n",
    "            print(f\"Deposited {amount}. {self.account_holder}, your new balance: {self.balance},\")\n",
    "\n",
    "\n",
    "\n",
    "bankomat = BankAccount()\n",
    "\n",
    "bankomat.account_holder = (\"ville\")\n",
    "bankomat.balance = 2300\n",
    "\n",
    "\n",
    "\n",
    "bankomat.withdraw(2300)\n",
    "print(bankomat.balance)\n",
    "\n",
    "\n"
   ]
  },
  {
   "cell_type": "markdown",
   "id": "8e9f0a9b",
   "metadata": {},
   "source": [
    "### b) Skapa en instans av klassen och testa att den fungerar."
   ]
  },
  {
   "cell_type": "code",
   "execution_count": 9,
   "id": "b91df547",
   "metadata": {},
   "outputs": [
    {
     "name": "stdout",
     "output_type": "stream",
     "text": [
      "True\n"
     ]
    }
   ],
   "source": [
    "class BankAccount:\n",
    "    pass\n",
    "\n",
    "\n",
    "bankomat = BankAccount()\n",
    "print(isinstance(bankomat, BankAccount))  # true"
   ]
  },
  {
   "cell_type": "markdown",
   "id": "f43384b9",
   "metadata": {},
   "source": [
    "### 6. Skapa en funktion som beräknar antalet vokaler i en sträng."
   ]
  },
  {
   "cell_type": "code",
   "execution_count": 5,
   "id": "cf77d5d6",
   "metadata": {},
   "outputs": [
    {
     "name": "stdout",
     "output_type": "stream",
     "text": [
      "4\n"
     ]
    }
   ],
   "source": [
    "def räkna_vokaler(text):\n",
    "\n",
    "    vokaler = \"aeiouyåäö\"   #alla vokaler\n",
    "    count = 0   #räkna från 0\n",
    "\n",
    "\n",
    "    for bokstav in text:\n",
    "        if bokstav.lower() in vokaler:\n",
    "            count += 1\n",
    "    return count\n",
    "\n",
    "\n",
    "print(räkna_vokaler(\"hejsan svejsan\"))"
   ]
  },
  {
   "cell_type": "markdown",
   "id": "25e9d9d4",
   "metadata": {},
   "source": [
    "### 7. Skapa en funktion som tar två listor som argument och returnerar de gemensamma elementen i en ny lista."
   ]
  },
  {
   "cell_type": "code",
   "execution_count": 52,
   "id": "86d6cbff",
   "metadata": {},
   "outputs": [
    {
     "name": "stdout",
     "output_type": "stream",
     "text": [
      "[3, 5]\n"
     ]
    }
   ],
   "source": [
    "# Din funktionsimplementation här\n",
    "\n",
    "lista1 = [1, 3, 5, 7, 9]\n",
    "lista2 = [2, 5, 3, 8, 10]\n",
    "\n",
    "\n",
    "\n",
    "def gemensamma_listor(lista1, lista2):\n",
    "    gemensamma = []\n",
    "    for item in lista1:\n",
    "        if item in lista2:\n",
    "            gemensamma.append(item)\n",
    "    return gemensamma\n",
    "\n",
    "\n",
    "resultat = gemensamma_listor(lista1, lista2)\n",
    "\n",
    "print(resultat) "
   ]
  },
  {
   "cell_type": "markdown",
   "id": "9d6eccfc",
   "metadata": {},
   "source": [
    "## 8. Stork och barnafödsel – Stämmer påståendet? Använd begreppet kausalitet i ditt svar."
   ]
  },
  {
   "cell_type": "markdown",
   "id": "11cff3b2",
   "metadata": {},
   "source": [
    "Det verkar finnas ett samband mellan antal storkpar och antal födslar enligt grafen, men det betyder inte att storkar orsakar att barn föds. Det är en korrelation, men inte kausalitet.\n",
    "Kausalitet betyder att en sak orsakar en annan. I det här fallet är det troligare att båda faktorerna påverkas av något annat tex att det föds fler barn på landsbygden där det också finns fler storkar. Därför stämmer inte påståendet."
   ]
  },
  {
   "cell_type": "markdown",
   "id": "1ff419ec",
   "metadata": {},
   "source": [
    "## 9. Kim påstår att medelvärdet är ett bättre mått än medianvärdet. Håller du med?"
   ]
  },
  {
   "cell_type": "markdown",
   "id": "5d977664",
   "metadata": {},
   "source": [
    "Jag håller inte alltid med Kim.\n",
    "Medelvärdet kan vara bra, men det påverkas mycket av extremvärden. väldigt höga eller låga värden.\n",
    "Medianvärdet är bättre när det finns avvikande värden eftersom det visar det \"mittenvärde\" som inte dras upp eller ner av extremfall.\n",
    "\n",
    "Så vilket mått som är bäst beror på hur datan ser ut."
   ]
  },
  {
   "cell_type": "markdown",
   "id": "76018bc3",
   "metadata": {},
   "source": [
    "## 10. Vad används cirkeldiagram för? Ge ett exempel på hur Spotify (eller ett annat företag) kan använda det."
   ]
  },
  {
   "cell_type": "markdown",
   "id": "51e7a0a8",
   "metadata": {},
   "source": [
    "Ett cirkeldiagram används för att visa hur något är uppdelat i procent, alltså hur olika delar förhåller sig till en helhet. Det passar bra när man vill visa andelar eller fördelningar på ett tydligt och visuellt sätt.\n",
    "\n",
    "Ett företag som Spotify skulle till exempel kunna använda ett cirkeldiagram för att visa vilka musikgenrer som lyssnarna föredrar. I diagrammet kan man se hur stor del av det totala lyssnandet som går till olika genrer, till exempel: pop 40 %, hip-hop 25 %, rock 15 %, elektroniskt 10 % och övrigt 10 %. Då får man en tydlig översikt över vilka genrer som är mest populära bland användarna."
   ]
  },
  {
   "cell_type": "markdown",
   "id": "830bafca",
   "metadata": {},
   "source": [
    "## 11. Vad används linjediagram för? Ge ett exempel på hur Spotify (eller ett annat företag) kan använda det."
   ]
  },
  {
   "cell_type": "markdown",
   "id": "cf7ac45e",
   "metadata": {},
   "source": [
    "Ett linjediagram används för att visa hur något förändras över tid. Det är bra för att visa trender, till exempel hur något ökar eller minskar under olika tidsperioder.\n",
    "\n",
    "Ett företag som Spotify skulle kunna använda ett linjediagram för att visa hur många användare de har haft varje månad under ett år. Då kan man enkelt se om antalet användare har ökat, minskat eller varit stabilt över tid. Det hjälper företaget att förstå hur verksamheten utvecklas"
   ]
  },
  {
   "cell_type": "markdown",
   "id": "0123f445",
   "metadata": {},
   "source": [
    "## 12. Vad används lådagram (boxplots) för?"
   ]
  },
  {
   "cell_type": "markdown",
   "id": "5e700f47",
   "metadata": {},
   "source": [
    "Ett lådagram används för att visa hur data är fördelad. Det visar bland annat medianen, spridningen, lägsta och högsta värde och kvartiler. Med hjälp av ett lådagram kan man snabbt få en översikt över hur värdena ligger, om de är jämnt fördelade och om det finns några avvikande värden.\n",
    "\n",
    "Lådagram är särskilt användbara när man vill jämföra olika grupper med varandra. Till exempel kan en skola använda lådagram för att jämföra resultat på ett matteprov mellan två olika klasser. Då kan man lätt se vilken klass som hade högst median, vilken som hade störst spridning och om det finns elever som hade ovanligt höga eller låga resultat."
   ]
  },
  {
   "cell_type": "markdown",
   "id": "5f78a038",
   "metadata": {},
   "source": [
    "# ✅ Självutvärdering"
   ]
  },
  {
   "cell_type": "markdown",
   "id": "6efcfa98",
   "metadata": {},
   "source": [
    "- **Vad har varit roligast?**\n",
    "- **Vilket betyg anser du att du ska ha och varför?**\n",
    "- **Vad har varit mest utmanande och hur har du hanterat det?**"
   ]
  },
  {
   "cell_type": "markdown",
   "id": "3043ab83",
   "metadata": {},
   "source": [
    "\n",
    "Det roligaste har varit att jobba med Streamlit. Jag tyckte det var kul att kunna göra något som ser ut som en riktig webbsida, och att användaren kan klicka runt och filtrera datan direkt. Det kändes mer \"på riktigt\" än att bara skriva kod i Jupyter Notebook. även om jag tyckte att Notebook var väldigt bra också!\n",
    "\n",
    "\n",
    "\n",
    "Jag vill tycka att jag har motsvarat alla kraven som kursen ber om så jag skulle gärna vilja ha minst ett G.\n",
    "\n",
    "\n",
    "\n",
    "Det som var svårast var att få layouten i Streamlit att bli precis som jag ville. Jag ville till exempel ha nyckeltalen synliga hela tiden högst upp på sidan, men jag hittade inget enkelt sätt att göra det. Jag provade olika lösningar men det blev inte som jag tänkt mig. Trots det lärde jag mig mycket av att testa och jag förstod bättre hur Streamlit fungerar och hur man kan hitta svar på problem när man kör fast."
   ]
  }
 ],
 "metadata": {
  "kernelspec": {
   "display_name": "Python 3",
   "language": "python",
   "name": "python3"
  },
  "language_info": {
   "codemirror_mode": {
    "name": "ipython",
    "version": 3
   },
   "file_extension": ".py",
   "mimetype": "text/x-python",
   "name": "python",
   "nbconvert_exporter": "python",
   "pygments_lexer": "ipython3",
   "version": "3.12.7"
  }
 },
 "nbformat": 4,
 "nbformat_minor": 5
}
